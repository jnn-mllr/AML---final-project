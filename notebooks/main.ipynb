{
 "cells": [
  {
   "cell_type": "markdown",
   "id": "17153aa2",
   "metadata": {},
   "source": [
    "# Main Notebook\n",
    "This notebook is for the main analysis and experimentation."
   ]
  },
  {
   "cell_type": "code",
   "execution_count": 24,
   "id": "48cab40f",
   "metadata": {},
   "outputs": [
    {
     "name": "stdout",
     "output_type": "stream",
     "text": [
      "The autoreload extension is already loaded. To reload it, use:\n",
      "  %reload_ext autoreload\n",
      "Courselib path already in sys.path.\n"
     ]
    }
   ],
   "source": [
    "# Enable autoreloading of imported modules\n",
    "%load_ext autoreload\n",
    "%autoreload 2\n",
    "\n",
    "import sys\n",
    "import os\n",
    "import numpy as np\n",
    "import pandas as pd\n",
    "import matplotlib.pyplot as plt\n",
    "\n",
    "\n",
    "# Add the repo root to access the courselib\n",
    "repo_root = os.path.abspath(os.path.join(os.getcwd(), \"..\"))\n",
    "courselib_path = os.path.join(repo_root, \"AppliedML\", \"courselib\")\n",
    "if courselib_path not in sys.path:\n",
    "    sys.path.insert(0, courselib_path)\n",
    "    print(f\"{courselib_path} added to sys.path.\")\n",
    "else:\n",
    "    print(\"Courselib path already in sys.path.\")"
   ]
  },
  {
   "cell_type": "markdown",
   "id": "66d08ae2",
   "metadata": {},
   "source": [
    "As this project is supposed to integrate well with the courselib, we have downloaded the current GitHub Repo up to week 11 and our code will be integrated within courselib libraries."
   ]
  },
  {
   "cell_type": "code",
   "execution_count": 25,
   "id": "05c9a498",
   "metadata": {},
   "outputs": [
    {
     "name": "stdout",
     "output_type": "stream",
     "text": [
      "Loading from local `data/adult.data`...\n"
     ]
    }
   ],
   "source": [
    "from utils.loaders import load_uciadult\n",
    "\n",
    "# ensure the data directory exists / else create it\n",
    "os.makedirs('data', exist_ok=True)\n",
    "\n",
    "# get the data\n",
    "df = load_uciadult()"
   ]
  },
  {
   "cell_type": "code",
   "execution_count": 26,
   "id": "477c3dba",
   "metadata": {},
   "outputs": [
    {
     "data": {
      "application/vnd.microsoft.datawrangler.viewer.v0+json": {
       "columns": [
        {
         "name": "index",
         "rawType": "object",
         "type": "string"
        },
        {
         "name": "0",
         "rawType": "int64",
         "type": "integer"
        }
       ],
       "ref": "afc93e50-a0f2-4372-9c4b-81ba5762ebc0",
       "rows": [
        [
         "age",
         "0"
        ],
        [
         "workclass",
         "1836"
        ],
        [
         "fnlwgt",
         "0"
        ],
        [
         "education",
         "0"
        ],
        [
         "education-num",
         "0"
        ],
        [
         "marital-status",
         "0"
        ],
        [
         "occupation",
         "1843"
        ],
        [
         "relationship",
         "0"
        ],
        [
         "race",
         "0"
        ],
        [
         "sex",
         "0"
        ],
        [
         "capital-gain",
         "0"
        ],
        [
         "capital-loss",
         "0"
        ],
        [
         "hours-per-week",
         "0"
        ],
        [
         "native-country",
         "583"
        ],
        [
         "income",
         "0"
        ]
       ],
       "shape": {
        "columns": 1,
        "rows": 15
       }
      },
      "text/plain": [
       "age                  0\n",
       "workclass         1836\n",
       "fnlwgt               0\n",
       "education            0\n",
       "education-num        0\n",
       "marital-status       0\n",
       "occupation        1843\n",
       "relationship         0\n",
       "race                 0\n",
       "sex                  0\n",
       "capital-gain         0\n",
       "capital-loss         0\n",
       "hours-per-week       0\n",
       "native-country     583\n",
       "income               0\n",
       "dtype: int64"
      ]
     },
     "execution_count": 26,
     "metadata": {},
     "output_type": "execute_result"
    }
   ],
   "source": [
    "# check for missing values\n",
    "df.isnull().sum()"
   ]
  },
  {
   "cell_type": "markdown",
   "id": "00f8868c",
   "metadata": {},
   "source": [
    "### Data Cleaning\n",
    "\n",
    "1.  **Handle Duplicates**: We remove any duplicate rows from the dataset.\n",
    "2.  **Handle Missing Values**: Instead of removing rows with missing data, we treat the missing values in our categorical columns as a distinct category called 'Missing' as these observations could also contain additional information, expecially when condisering their categorical nature.\n"
   ]
  },
  {
   "cell_type": "code",
   "execution_count": 27,
   "id": "7d11a078",
   "metadata": {},
   "outputs": [
    {
     "name": "stdout",
     "output_type": "stream",
     "text": [
      "24 duplicate observations in the dataset were removed.\n"
     ]
    }
   ],
   "source": [
    "from utils.preprocessing import preprocess_data\n",
    "\n",
    "# preprocessing of  the data\n",
    "df = preprocess_data(df)\n"
   ]
  },
  {
   "cell_type": "markdown",
   "id": "92e7d854",
   "metadata": {},
   "source": [
    "# Exploratory Data Analysis"
   ]
  },
  {
   "cell_type": "code",
   "execution_count": 12,
   "id": "dc0c67be",
   "metadata": {},
   "outputs": [
    {
     "name": "stdout",
     "output_type": "stream",
     "text": [
      "<class 'pandas.core.frame.DataFrame'>\n",
      "Index: 32537 entries, 0 to 32560\n",
      "Data columns (total 15 columns):\n",
      " #   Column          Non-Null Count  Dtype \n",
      "---  ------          --------------  ----- \n",
      " 0   age             32537 non-null  int64 \n",
      " 1   workclass       32537 non-null  object\n",
      " 2   fnlwgt          32537 non-null  int64 \n",
      " 3   education       32537 non-null  object\n",
      " 4   education-num   32537 non-null  int64 \n",
      " 5   marital-status  32537 non-null  object\n",
      " 6   occupation      32537 non-null  object\n",
      " 7   relationship    32537 non-null  object\n",
      " 8   race            32537 non-null  object\n",
      " 9   sex             32537 non-null  object\n",
      " 10  capital-gain    32537 non-null  int64 \n",
      " 11  capital-loss    32537 non-null  int64 \n",
      " 12  hours-per-week  32537 non-null  int64 \n",
      " 13  native-country  32537 non-null  object\n",
      " 14  income          32537 non-null  object\n",
      "dtypes: int64(6), object(9)\n",
      "memory usage: 4.0+ MB\n"
     ]
    }
   ],
   "source": [
    "# basic info about the data set \n",
    "df.info()"
   ]
  },
  {
   "cell_type": "code",
   "execution_count": 13,
   "id": "09b7ae08",
   "metadata": {},
   "outputs": [
    {
     "data": {
      "application/vnd.microsoft.datawrangler.viewer.v0+json": {
       "columns": [
        {
         "name": "index",
         "rawType": "object",
         "type": "string"
        },
        {
         "name": "age",
         "rawType": "float64",
         "type": "float"
        },
        {
         "name": "fnlwgt",
         "rawType": "float64",
         "type": "float"
        },
        {
         "name": "education-num",
         "rawType": "float64",
         "type": "float"
        },
        {
         "name": "capital-gain",
         "rawType": "float64",
         "type": "float"
        },
        {
         "name": "capital-loss",
         "rawType": "float64",
         "type": "float"
        },
        {
         "name": "hours-per-week",
         "rawType": "float64",
         "type": "float"
        }
       ],
       "ref": "8bfd3e52-bdc6-41db-8ac8-f2e7d4effb07",
       "rows": [
        [
         "count",
         "32537.0",
         "32537.0",
         "32537.0",
         "32537.0",
         "32537.0",
         "32537.0"
        ],
        [
         "mean",
         "38.585548759873376",
         "189780.84851092604",
         "10.081814549589698",
         "1078.4437409718166",
         "87.36822694163568",
         "40.44032947106371"
        ],
        [
         "std",
         "13.637983518469866",
         "105556.47100949337",
         "2.5716330100707423",
         "7387.957424191213",
         "403.10183306309347",
         "12.346889182125157"
        ],
        [
         "min",
         "17.0",
         "12285.0",
         "1.0",
         "0.0",
         "0.0",
         "1.0"
        ],
        [
         "25%",
         "28.0",
         "117827.0",
         "9.0",
         "0.0",
         "0.0",
         "40.0"
        ],
        [
         "50%",
         "37.0",
         "178356.0",
         "10.0",
         "0.0",
         "0.0",
         "40.0"
        ],
        [
         "75%",
         "48.0",
         "236993.0",
         "12.0",
         "0.0",
         "0.0",
         "45.0"
        ],
        [
         "max",
         "90.0",
         "1484705.0",
         "16.0",
         "99999.0",
         "4356.0",
         "99.0"
        ]
       ],
       "shape": {
        "columns": 6,
        "rows": 8
       }
      },
      "text/html": [
       "<div>\n",
       "<style scoped>\n",
       "    .dataframe tbody tr th:only-of-type {\n",
       "        vertical-align: middle;\n",
       "    }\n",
       "\n",
       "    .dataframe tbody tr th {\n",
       "        vertical-align: top;\n",
       "    }\n",
       "\n",
       "    .dataframe thead th {\n",
       "        text-align: right;\n",
       "    }\n",
       "</style>\n",
       "<table border=\"1\" class=\"dataframe\">\n",
       "  <thead>\n",
       "    <tr style=\"text-align: right;\">\n",
       "      <th></th>\n",
       "      <th>age</th>\n",
       "      <th>fnlwgt</th>\n",
       "      <th>education-num</th>\n",
       "      <th>capital-gain</th>\n",
       "      <th>capital-loss</th>\n",
       "      <th>hours-per-week</th>\n",
       "    </tr>\n",
       "  </thead>\n",
       "  <tbody>\n",
       "    <tr>\n",
       "      <th>count</th>\n",
       "      <td>32537.000000</td>\n",
       "      <td>3.253700e+04</td>\n",
       "      <td>32537.000000</td>\n",
       "      <td>32537.000000</td>\n",
       "      <td>32537.000000</td>\n",
       "      <td>32537.000000</td>\n",
       "    </tr>\n",
       "    <tr>\n",
       "      <th>mean</th>\n",
       "      <td>38.585549</td>\n",
       "      <td>1.897808e+05</td>\n",
       "      <td>10.081815</td>\n",
       "      <td>1078.443741</td>\n",
       "      <td>87.368227</td>\n",
       "      <td>40.440329</td>\n",
       "    </tr>\n",
       "    <tr>\n",
       "      <th>std</th>\n",
       "      <td>13.637984</td>\n",
       "      <td>1.055565e+05</td>\n",
       "      <td>2.571633</td>\n",
       "      <td>7387.957424</td>\n",
       "      <td>403.101833</td>\n",
       "      <td>12.346889</td>\n",
       "    </tr>\n",
       "    <tr>\n",
       "      <th>min</th>\n",
       "      <td>17.000000</td>\n",
       "      <td>1.228500e+04</td>\n",
       "      <td>1.000000</td>\n",
       "      <td>0.000000</td>\n",
       "      <td>0.000000</td>\n",
       "      <td>1.000000</td>\n",
       "    </tr>\n",
       "    <tr>\n",
       "      <th>25%</th>\n",
       "      <td>28.000000</td>\n",
       "      <td>1.178270e+05</td>\n",
       "      <td>9.000000</td>\n",
       "      <td>0.000000</td>\n",
       "      <td>0.000000</td>\n",
       "      <td>40.000000</td>\n",
       "    </tr>\n",
       "    <tr>\n",
       "      <th>50%</th>\n",
       "      <td>37.000000</td>\n",
       "      <td>1.783560e+05</td>\n",
       "      <td>10.000000</td>\n",
       "      <td>0.000000</td>\n",
       "      <td>0.000000</td>\n",
       "      <td>40.000000</td>\n",
       "    </tr>\n",
       "    <tr>\n",
       "      <th>75%</th>\n",
       "      <td>48.000000</td>\n",
       "      <td>2.369930e+05</td>\n",
       "      <td>12.000000</td>\n",
       "      <td>0.000000</td>\n",
       "      <td>0.000000</td>\n",
       "      <td>45.000000</td>\n",
       "    </tr>\n",
       "    <tr>\n",
       "      <th>max</th>\n",
       "      <td>90.000000</td>\n",
       "      <td>1.484705e+06</td>\n",
       "      <td>16.000000</td>\n",
       "      <td>99999.000000</td>\n",
       "      <td>4356.000000</td>\n",
       "      <td>99.000000</td>\n",
       "    </tr>\n",
       "  </tbody>\n",
       "</table>\n",
       "</div>"
      ],
      "text/plain": [
       "                age        fnlwgt  education-num  capital-gain  capital-loss  \\\n",
       "count  32537.000000  3.253700e+04   32537.000000  32537.000000  32537.000000   \n",
       "mean      38.585549  1.897808e+05      10.081815   1078.443741     87.368227   \n",
       "std       13.637984  1.055565e+05       2.571633   7387.957424    403.101833   \n",
       "min       17.000000  1.228500e+04       1.000000      0.000000      0.000000   \n",
       "25%       28.000000  1.178270e+05       9.000000      0.000000      0.000000   \n",
       "50%       37.000000  1.783560e+05      10.000000      0.000000      0.000000   \n",
       "75%       48.000000  2.369930e+05      12.000000      0.000000      0.000000   \n",
       "max       90.000000  1.484705e+06      16.000000  99999.000000   4356.000000   \n",
       "\n",
       "       hours-per-week  \n",
       "count    32537.000000  \n",
       "mean        40.440329  \n",
       "std         12.346889  \n",
       "min          1.000000  \n",
       "25%         40.000000  \n",
       "50%         40.000000  \n",
       "75%         45.000000  \n",
       "max         99.000000  "
      ]
     },
     "execution_count": 13,
     "metadata": {},
     "output_type": "execute_result"
    }
   ],
   "source": [
    "# summary stats about the variables\n",
    "df.describe()"
   ]
  },
  {
   "cell_type": "code",
   "execution_count": 19,
   "id": "666d1275",
   "metadata": {},
   "outputs": [
    {
     "data": {
      "image/png": "[encoded data removed]",
      "text/plain": [
       "<Figure size 700x500 with 1 Axes>"
      ]
     },
     "metadata": {},
     "output_type": "display_data"
    }
   ],
   "source": [
    "# distribution of the target variable\n",
    "plt.figure(figsize=(7, 5))\n",
    "bars = df['income'].value_counts().sort_index().plot(\n",
    "    kind='bar',\n",
    "    color=['blue', 'red'],\n",
    "    edgecolor='black'\n",
    ")\n",
    "plt.title('Class Balance of Income', fontsize=16)\n",
    "plt.xlabel('Income (0 = <=50K, 1 = >50K)', fontsize=12)\n",
    "plt.ylabel('Count', fontsize=12)\n",
    "plt.xticks([0, 1], ['<=50K', '>50K'], rotation=0, fontsize=11)\n",
    "plt.yticks(fontsize=11)\n",
    "plt.grid(axis='y', linestyle='--', alpha=0.7)\n",
    "plt.tight_layout()\n",
    "plt.show()"
   ]
  },
  {
   "cell_type": "code",
   "execution_count": 21,
   "id": "7f345c50",
   "metadata": {},
   "outputs": [
    {
     "data": {
      "image/png": "[encoded data removed]",
      "text/plain": [
       "<Figure size 1000x600 with 1 Axes>"
      ]
     },
     "metadata": {},
     "output_type": "display_data"
    }
   ],
   "source": [
    "import seaborn as sns\n",
    "\n",
    "# relationship between income and age\n",
    "plt.figure(figsize=(10, 6))\n",
    "sns.histplot(data=df, x='age', hue='income', multiple='stack', bins=30, palette='viridis')\n",
    "plt.title('Age Distribution by Income Level', fontsize=16)\n",
    "plt.xlabel('Age', fontsize=12)\n",
    "plt.ylabel('Count', fontsize=12)\n",
    "plt.legend(title='Income', labels=['>50K', '<=50K'])\n",
    "plt.show()"
   ]
  },
  {
   "cell_type": "code",
   "execution_count": 22,
   "id": "1b8c92dc",
   "metadata": {},
   "outputs": [
    {
     "data": {
      "image/png": "[encoded data removed]",
      "text/plain": [
       "<Figure size 1200x700 with 1 Axes>"
      ]
     },
     "metadata": {},
     "output_type": "display_data"
    }
   ],
   "source": [
    "# income by education\n",
    "plt.figure(figsize=(12, 7))\n",
    "sns.countplot(y='education', hue='income', data=df, order=df['education'].value_counts().index, palette='magma')\n",
    "plt.title('Income Level by Education', fontsize=16)\n",
    "plt.xlabel('Count', fontsize=12)\n",
    "plt.ylabel('Education Level', fontsize=12)\n",
    "plt.legend(title='Income', labels=['>50K', '<=50K'])\n",
    "plt.tight_layout()\n",
    "plt.show()"
   ]
  },
  {
   "cell_type": "code",
   "execution_count": 16,
   "id": "deab9232",
   "metadata": {},
   "outputs": [
    {
     "data": {
      "application/vnd.microsoft.datawrangler.viewer.v0+json": {
       "columns": [
        {
         "name": "index",
         "rawType": "int64",
         "type": "integer"
        },
        {
         "name": "age",
         "rawType": "int64",
         "type": "integer"
        },
        {
         "name": "workclass",
         "rawType": "object",
         "type": "string"
        },
        {
         "name": "fnlwgt",
         "rawType": "int64",
         "type": "integer"
        },
        {
         "name": "education",
         "rawType": "object",
         "type": "string"
        },
        {
         "name": "education-num",
         "rawType": "int64",
         "type": "integer"
        },
        {
         "name": "marital-status",
         "rawType": "object",
         "type": "string"
        },
        {
         "name": "occupation",
         "rawType": "object",
         "type": "string"
        },
        {
         "name": "relationship",
         "rawType": "object",
         "type": "string"
        },
        {
         "name": "race",
         "rawType": "object",
         "type": "string"
        },
        {
         "name": "sex",
         "rawType": "object",
         "type": "string"
        },
        {
         "name": "capital-gain",
         "rawType": "int64",
         "type": "integer"
        },
        {
         "name": "capital-loss",
         "rawType": "int64",
         "type": "integer"
        },
        {
         "name": "hours-per-week",
         "rawType": "int64",
         "type": "integer"
        },
        {
         "name": "native-country",
         "rawType": "object",
         "type": "string"
        },
        {
         "name": "income",
         "rawType": "int64",
         "type": "integer"
        }
       ],
       "ref": "5244f8f3-cc32-4040-92d8-978dc492cd3e",
       "rows": [
        [
         "0",
         "39",
         " State-gov",
         "77516",
         " Bachelors",
         "13",
         " Never-married",
         " Adm-clerical",
         " Not-in-family",
         " White",
         " Male",
         "2174",
         "0",
         "40",
         " United-States",
         "0"
        ],
        [
         "1",
         "50",
         " Self-emp-not-inc",
         "83311",
         " Bachelors",
         "13",
         " Married-civ-spouse",
         " Exec-managerial",
         " Husband",
         " White",
         " Male",
         "0",
         "0",
         "13",
         " United-States",
         "0"
        ],
        [
         "2",
         "38",
         " Private",
         "215646",
         " HS-grad",
         "9",
         " Divorced",
         " Handlers-cleaners",
         " Not-in-family",
         " White",
         " Male",
         "0",
         "0",
         "40",
         " United-States",
         "0"
        ],
        [
         "3",
         "53",
         " Private",
         "234721",
         " 11th",
         "7",
         " Married-civ-spouse",
         " Handlers-cleaners",
         " Husband",
         " Black",
         " Male",
         "0",
         "0",
         "40",
         " United-States",
         "0"
        ],
        [
         "4",
         "28",
         " Private",
         "338409",
         " Bachelors",
         "13",
         " Married-civ-spouse",
         " Prof-specialty",
         " Wife",
         " Black",
         " Female",
         "0",
         "0",
         "40",
         " Cuba",
         "0"
        ]
       ],
       "shape": {
        "columns": 15,
        "rows": 5
       }
      },
      "text/html": [
       "<div>\n",
       "<style scoped>\n",
       "    .dataframe tbody tr th:only-of-type {\n",
       "        vertical-align: middle;\n",
       "    }\n",
       "\n",
       "    .dataframe tbody tr th {\n",
       "        vertical-align: top;\n",
       "    }\n",
       "\n",
       "    .dataframe thead th {\n",
       "        text-align: right;\n",
       "    }\n",
       "</style>\n",
       "<table border=\"1\" class=\"dataframe\">\n",
       "  <thead>\n",
       "    <tr style=\"text-align: right;\">\n",
       "      <th></th>\n",
       "      <th>age</th>\n",
       "      <th>workclass</th>\n",
       "      <th>fnlwgt</th>\n",
       "      <th>education</th>\n",
       "      <th>education-num</th>\n",
       "      <th>marital-status</th>\n",
       "      <th>occupation</th>\n",
       "      <th>relationship</th>\n",
       "      <th>race</th>\n",
       "      <th>sex</th>\n",
       "      <th>capital-gain</th>\n",
       "      <th>capital-loss</th>\n",
       "      <th>hours-per-week</th>\n",
       "      <th>native-country</th>\n",
       "      <th>income</th>\n",
       "    </tr>\n",
       "  </thead>\n",
       "  <tbody>\n",
       "    <tr>\n",
       "      <th>0</th>\n",
       "      <td>39</td>\n",
       "      <td>State-gov</td>\n",
       "      <td>77516</td>\n",
       "      <td>Bachelors</td>\n",
       "      <td>13</td>\n",
       "      <td>Never-married</td>\n",
       "      <td>Adm-clerical</td>\n",
       "      <td>Not-in-family</td>\n",
       "      <td>White</td>\n",
       "      <td>Male</td>\n",
       "      <td>2174</td>\n",
       "      <td>0</td>\n",
       "      <td>40</td>\n",
       "      <td>United-States</td>\n",
       "      <td>0</td>\n",
       "    </tr>\n",
       "    <tr>\n",
       "      <th>1</th>\n",
       "      <td>50</td>\n",
       "      <td>Self-emp-not-inc</td>\n",
       "      <td>83311</td>\n",
       "      <td>Bachelors</td>\n",
       "      <td>13</td>\n",
       "      <td>Married-civ-spouse</td>\n",
       "      <td>Exec-managerial</td>\n",
       "      <td>Husband</td>\n",
       "      <td>White</td>\n",
       "      <td>Male</td>\n",
       "      <td>0</td>\n",
       "      <td>0</td>\n",
       "      <td>13</td>\n",
       "      <td>United-States</td>\n",
       "      <td>0</td>\n",
       "    </tr>\n",
       "    <tr>\n",
       "      <th>2</th>\n",
       "      <td>38</td>\n",
       "      <td>Private</td>\n",
       "      <td>215646</td>\n",
       "      <td>HS-grad</td>\n",
       "      <td>9</td>\n",
       "      <td>Divorced</td>\n",
       "      <td>Handlers-cleaners</td>\n",
       "      <td>Not-in-family</td>\n",
       "      <td>White</td>\n",
       "      <td>Male</td>\n",
       "      <td>0</td>\n",
       "      <td>0</td>\n",
       "      <td>40</td>\n",
       "      <td>United-States</td>\n",
       "      <td>0</td>\n",
       "    </tr>\n",
       "    <tr>\n",
       "      <th>3</th>\n",
       "      <td>53</td>\n",
       "      <td>Private</td>\n",
       "      <td>234721</td>\n",
       "      <td>11th</td>\n",
       "      <td>7</td>\n",
       "      <td>Married-civ-spouse</td>\n",
       "      <td>Handlers-cleaners</td>\n",
       "      <td>Husband</td>\n",
       "      <td>Black</td>\n",
       "      <td>Male</td>\n",
       "      <td>0</td>\n",
       "      <td>0</td>\n",
       "      <td>40</td>\n",
       "      <td>United-States</td>\n",
       "      <td>0</td>\n",
       "    </tr>\n",
       "    <tr>\n",
       "      <th>4</th>\n",
       "      <td>28</td>\n",
       "      <td>Private</td>\n",
       "      <td>338409</td>\n",
       "      <td>Bachelors</td>\n",
       "      <td>13</td>\n",
       "      <td>Married-civ-spouse</td>\n",
       "      <td>Prof-specialty</td>\n",
       "      <td>Wife</td>\n",
       "      <td>Black</td>\n",
       "      <td>Female</td>\n",
       "      <td>0</td>\n",
       "      <td>0</td>\n",
       "      <td>40</td>\n",
       "      <td>Cuba</td>\n",
       "      <td>0</td>\n",
       "    </tr>\n",
       "  </tbody>\n",
       "</table>\n",
       "</div>"
      ],
      "text/plain": [
       "   age          workclass  fnlwgt   education  education-num  \\\n",
       "0   39          State-gov   77516   Bachelors             13   \n",
       "1   50   Self-emp-not-inc   83311   Bachelors             13   \n",
       "2   38            Private  215646     HS-grad              9   \n",
       "3   53            Private  234721        11th              7   \n",
       "4   28            Private  338409   Bachelors             13   \n",
       "\n",
       "        marital-status          occupation    relationship    race      sex  \\\n",
       "0        Never-married        Adm-clerical   Not-in-family   White     Male   \n",
       "1   Married-civ-spouse     Exec-managerial         Husband   White     Male   \n",
       "2             Divorced   Handlers-cleaners   Not-in-family   White     Male   \n",
       "3   Married-civ-spouse   Handlers-cleaners         Husband   Black     Male   \n",
       "4   Married-civ-spouse      Prof-specialty            Wife   Black   Female   \n",
       "\n",
       "   capital-gain  capital-loss  hours-per-week  native-country  income  \n",
       "0          2174             0              40   United-States       0  \n",
       "1             0             0              13   United-States       0  \n",
       "2             0             0              40   United-States       0  \n",
       "3             0             0              40   United-States       0  \n",
       "4             0             0              40            Cuba       0  "
      ]
     },
     "execution_count": 16,
     "metadata": {},
     "output_type": "execute_result"
    }
   ],
   "source": [
    "# first glimpse into the data set\n",
    "df.head()"
   ]
  },
  {
   "cell_type": "markdown",
   "id": "c08bc11c",
   "metadata": {},
   "source": [
    "\n",
    "# Feature Engineering\n"
   ]
  },
  {
   "cell_type": "code",
   "execution_count": null,
   "id": "17922581",
   "metadata": {},
   "outputs": [],
   "source": [
    "\n",
    "# encoding strategies for each column\n",
    "encoding_strategies = {\n",
    "    'one-hot': ['workclass', 'marital-status', 'occupation', 'relationship', 'race', 'sex', 'native-country'],\n",
    "    'ordinal': {'education': ['Preschool', '1st-4th', '5th-6th', '7th-8th', '9th', '10th', '11th', '12th', 'HS-grad',\n",
    "                               'Some-college', 'Bachelors', 'Masters', 'Doctorate', 'Prof-school', 'Assoc-acdm',\n",
    "                                 'Assoc-voc']},\n",
    "    'target': ['income', 'occupation'] # Target column must be the first in the list\n",
    "}\n",
    "\n",
    "# Apply the encoding\n",
    "df_encoded = encode_features(df.copy(), encoding_strategies)\n",
    "\n",
    "# Display the first few rows of the encoded dataframe\n",
    "df_encoded.head()\n"
   ]
  },
  {
   "cell_type": "markdown",
   "id": "ab493094",
   "metadata": {},
   "source": [
    "\n",
    "## Categorical Feature Analysis\n",
    "\n",
    "To determine the best encoding strategy, we can analyze the relationship between each categorical feature and the target variable (`income`). We'll calculate the mean income for each category to see if there's a natural ordering.\n"
   ]
  },
  {
   "cell_type": "code",
   "execution_count": null,
   "id": "887c3ab7",
   "metadata": {},
   "outputs": [],
   "source": [
    "\n",
    "# Analyze the relationship between categorical features and income\n",
    "categorical_cols = df.select_dtypes(include=['object', 'category']).columns.tolist()\n",
    "categorical_cols.remove('income') # Remove target variable\n",
    "\n",
    "for col in categorical_cols:\n",
    "    print(f\"--- {col} ---\")\n",
    "    # Group by the column and calculate the mean of the target variable\n",
    "    # We can do this because the target is 0 or 1\n",
    "    print(df.groupby(col)['income'].mean().sort_values(ascending=False))\n",
    "    print(\"\\n\")\n"
   ]
  },
  {
   "cell_type": "markdown",
   "id": "0e0fa5e7",
   "metadata": {},
   "source": [
    "# Feature Engineering\n",
    "\n",
    "Now we will apply the encoding strategies we defined in our `preprocessing.py` file. We will create a dictionary to specify which encoding to use for each feature type."
   ]
  }
 ],
 "metadata": {
  "kernelspec": {
   "display_name": "Python (applied_ml)",
   "language": "python",
   "name": "applied_ml"
  },
  "language_info": {
   "codemirror_mode": {
    "name": "ipython",
    "version": 3
   },
   "file_extension": ".py",
   "mimetype": "text/x-python",
   "name": "python",
   "nbconvert_exporter": "python",
   "pygments_lexer": "ipython3",
   "version": "3.10.16"
  }
 },
 "nbformat": 4,
 "nbformat_minor": 5
}

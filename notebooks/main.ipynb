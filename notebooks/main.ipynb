{
 "cells": [
  {
   "cell_type": "markdown",
   "id": "49b46837",
   "metadata": {},
   "source": [
    "# Adult Census Income Prediction\n",
    "\n",
    "## Project Goal\n",
    "\n",
    "The goal of this project is to predict whether an individual's income exceeds $50,000 per year based on census data. This notebook will cover the entire machine learning pipeline, from data loading and cleaning to exploratory data analysis (EDA), feature engineering, and finally, model training and evaluation.\n",
    "\n",
    "We will focus on building a robust and reproducible workflow, using a custom library for preprocessing and analysis, and providing clear visualizations and explanations at each step."
   ]
  },
  {
   "cell_type": "markdown",
   "id": "17153aa2",
   "metadata": {},
   "source": [
    "# Main Notebook\n",
    "This notebook is for the main analysis and experimentation."
   ]
  },
  {
   "cell_type": "code",
   "execution_count": 30,
   "id": "48cab40f",
   "metadata": {},
   "outputs": [
    {
     "name": "stdout",
     "output_type": "stream",
     "text": [
      "The autoreload extension is already loaded. To reload it, use:\n",
      "  %reload_ext autoreload\n",
      "Courselib path already in sys.path.\n"
     ]
    }
   ],
   "source": [
    "# Enable autoreloading of imported modules\n",
    "%load_ext autoreload\n",
    "%autoreload 2\n",
    "\n",
    "import sys\n",
    "import os\n",
    "import numpy as np\n",
    "import pandas as pd\n",
    "import matplotlib.pyplot as plt\n",
    "\n",
    "\n",
    "# Add the repo root to access the courselib\n",
    "repo_root = os.path.abspath(os.path.join(os.getcwd(), \"..\"))\n",
    "courselib_path = os.path.join(repo_root, \"AppliedML\", \"courselib\")\n",
    "if courselib_path not in sys.path:\n",
    "    sys.path.insert(0, courselib_path)\n",
    "    print(f\"{courselib_path} added to sys.path.\")\n",
    "else:\n",
    "    print(\"Courselib path already in sys.path.\")"
   ]
  },
  {
   "cell_type": "markdown",
   "id": "66d08ae2",
   "metadata": {},
   "source": [
    "As this project is supposed to integrate well with the courselib, we have downloaded the current GitHub Repo up to week 11 and our code will be integrated within courselib libraries."
   ]
  },
  {
   "cell_type": "code",
   "execution_count": 31,
   "id": "05c9a498",
   "metadata": {},
   "outputs": [
    {
     "name": "stdout",
     "output_type": "stream",
     "text": [
      "Loading from local `data/adult.data`...\n"
     ]
    }
   ],
   "source": [
    "from utils.loaders import load_uciadult\n",
    "\n",
    "# ensure the data directory exists / else create it\n",
    "os.makedirs('data', exist_ok=True)\n",
    "\n",
    "# get the data\n",
    "df = load_uciadult()"
   ]
  },
  {
   "cell_type": "code",
   "execution_count": 32,
   "id": "477c3dba",
   "metadata": {},
   "outputs": [
    {
     "data": {
      "application/vnd.microsoft.datawrangler.viewer.v0+json": {
       "columns": [
        {
         "name": "index",
         "rawType": "object",
         "type": "string"
        },
        {
         "name": "0",
         "rawType": "int64",
         "type": "integer"
        }
       ],
       "ref": "e32d744b-abff-4029-8b93-1697b97890e6",
       "rows": [
        [
         "age",
         "0"
        ],
        [
         "workclass",
         "1836"
        ],
        [
         "fnlwgt",
         "0"
        ],
        [
         "education",
         "0"
        ],
        [
         "education-num",
         "0"
        ],
        [
         "marital-status",
         "0"
        ],
        [
         "occupation",
         "1843"
        ],
        [
         "relationship",
         "0"
        ],
        [
         "race",
         "0"
        ],
        [
         "sex",
         "0"
        ],
        [
         "capital-gain",
         "0"
        ],
        [
         "capital-loss",
         "0"
        ],
        [
         "hours-per-week",
         "0"
        ],
        [
         "native-country",
         "583"
        ],
        [
         "income",
         "0"
        ]
       ],
       "shape": {
        "columns": 1,
        "rows": 15
       }
      },
      "text/plain": [
       "age                  0\n",
       "workclass         1836\n",
       "fnlwgt               0\n",
       "education            0\n",
       "education-num        0\n",
       "marital-status       0\n",
       "occupation        1843\n",
       "relationship         0\n",
       "race                 0\n",
       "sex                  0\n",
       "capital-gain         0\n",
       "capital-loss         0\n",
       "hours-per-week       0\n",
       "native-country     583\n",
       "income               0\n",
       "dtype: int64"
      ]
     },
     "execution_count": 32,
     "metadata": {},
     "output_type": "execute_result"
    }
   ],
   "source": [
    "# check for missing values\n",
    "df.isnull().sum()"
   ]
  },
  {
   "cell_type": "markdown",
   "id": "00f8868c",
   "metadata": {},
   "source": [
    "### Data Cleaning\n",
    "\n",
    "1.  **Handle Duplicates**: We remove any duplicate rows from the dataset.\n",
    "2.  **Handle Missing Values**: Instead of removing rows with missing data, we treat the missing values in our categorical columns as a distinct category called 'Missing' as these observations could also contain additional information, expecially when condisering their categorical nature.\n"
   ]
  },
  {
   "cell_type": "code",
   "execution_count": 33,
   "id": "7d11a078",
   "metadata": {},
   "outputs": [
    {
     "name": "stdout",
     "output_type": "stream",
     "text": [
      "24 duplicate observations in the dataset were removed.\n"
     ]
    },
    {
     "name": "stderr",
     "output_type": "stream",
     "text": [
      "c:\\Users\\janne\\Google Drive\\Master 2\\AML\\github_code\\final_project\\AML---final-project\\AppliedML\\courselib\\utils\\preprocessing.py:72: FutureWarning: A value is trying to be set on a copy of a DataFrame or Series through chained assignment using an inplace method.\n",
      "The behavior will change in pandas 3.0. This inplace method will never work because the intermediate object on which we are setting values always behaves as a copy.\n",
      "\n",
      "For example, when doing 'df[col].method(value, inplace=True)', try using 'df.method({col: value}, inplace=True)' or df[col] = df[col].method(value) instead, to perform the operation inplace on the original object.\n",
      "\n",
      "\n"
     ]
    }
   ],
   "source": [
    "from utils.preprocessing import preprocess_data\n",
    "\n",
    "# preprocessing of  the data\n",
    "df = preprocess_data(df)\n"
   ]
  },
  {
   "cell_type": "markdown",
   "id": "92e7d854",
   "metadata": {},
   "source": [
    "# Exploratory Data Analysis"
   ]
  },
  {
   "cell_type": "code",
   "execution_count": 34,
   "id": "dc0c67be",
   "metadata": {},
   "outputs": [
    {
     "name": "stdout",
     "output_type": "stream",
     "text": [
      "<class 'pandas.core.frame.DataFrame'>\n",
      "Index: 32537 entries, 0 to 32560\n",
      "Data columns (total 15 columns):\n",
      " #   Column          Non-Null Count  Dtype \n",
      "---  ------          --------------  ----- \n",
      " 0   age             32537 non-null  int64 \n",
      " 1   workclass       32537 non-null  object\n",
      " 2   fnlwgt          32537 non-null  int64 \n",
      " 3   education       32537 non-null  object\n",
      " 4   education-num   32537 non-null  int64 \n",
      " 5   marital-status  32537 non-null  object\n",
      " 6   occupation      32537 non-null  object\n",
      " 7   relationship    32537 non-null  object\n",
      " 8   race            32537 non-null  object\n",
      " 9   sex             32537 non-null  object\n",
      " 10  capital-gain    32537 non-null  int64 \n",
      " 11  capital-loss    32537 non-null  int64 \n",
      " 12  hours-per-week  32537 non-null  int64 \n",
      " 13  native-country  32537 non-null  object\n",
      " 14  income          32537 non-null  int64 \n",
      "dtypes: int64(7), object(8)\n",
      "memory usage: 4.0+ MB\n"
     ]
    }
   ],
   "source": [
    "# basic info about the data set \n",
    "df.info()"
   ]
  },
  {
   "cell_type": "code",
   "execution_count": 35,
   "id": "09b7ae08",
   "metadata": {},
   "outputs": [
    {
     "data": {
      "application/vnd.microsoft.datawrangler.viewer.v0+json": {
       "columns": [
        {
         "name": "index",
         "rawType": "object",
         "type": "string"
        },
        {
         "name": "age",
         "rawType": "float64",
         "type": "float"
        },
        {
         "name": "fnlwgt",
         "rawType": "float64",
         "type": "float"
        },
        {
         "name": "education-num",
         "rawType": "float64",
         "type": "float"
        },
        {
         "name": "capital-gain",
         "rawType": "float64",
         "type": "float"
        },
        {
         "name": "capital-loss",
         "rawType": "float64",
         "type": "float"
        },
        {
         "name": "hours-per-week",
         "rawType": "float64",
         "type": "float"
        },
        {
         "name": "income",
         "rawType": "float64",
         "type": "float"
        }
       ],
       "ref": "dd2593da-e53a-4776-b80c-c61140ec66ff",
       "rows": [
        [
         "count",
         "32537.0",
         "32537.0",
         "32537.0",
         "32537.0",
         "32537.0",
         "32537.0",
         "32537.0"
        ],
        [
         "mean",
         "38.585548759873376",
         "189780.84851092604",
         "10.081814549589698",
         "1078.4437409718166",
         "87.36822694163568",
         "40.44032947106371",
         "0.2409257153394597"
        ],
        [
         "std",
         "13.637983518469866",
         "105556.47100949337",
         "2.5716330100707423",
         "7387.957424191213",
         "403.10183306309347",
         "12.346889182125157",
         "0.42765188634461754"
        ],
        [
         "min",
         "17.0",
         "12285.0",
         "1.0",
         "0.0",
         "0.0",
         "1.0",
         "0.0"
        ],
        [
         "25%",
         "28.0",
         "117827.0",
         "9.0",
         "0.0",
         "0.0",
         "40.0",
         "0.0"
        ],
        [
         "50%",
         "37.0",
         "178356.0",
         "10.0",
         "0.0",
         "0.0",
         "40.0",
         "0.0"
        ],
        [
         "75%",
         "48.0",
         "236993.0",
         "12.0",
         "0.0",
         "0.0",
         "45.0",
         "0.0"
        ],
        [
         "max",
         "90.0",
         "1484705.0",
         "16.0",
         "99999.0",
         "4356.0",
         "99.0",
         "1.0"
        ]
       ],
       "shape": {
        "columns": 7,
        "rows": 8
       }
      },
      "text/html": [
       "<div>\n",
       "<style scoped>\n",
       "    .dataframe tbody tr th:only-of-type {\n",
       "        vertical-align: middle;\n",
       "    }\n",
       "\n",
       "    .dataframe tbody tr th {\n",
       "        vertical-align: top;\n",
       "    }\n",
       "\n",
       "    .dataframe thead th {\n",
       "        text-align: right;\n",
       "    }\n",
       "</style>\n",
       "<table border=\"1\" class=\"dataframe\">\n",
       "  <thead>\n",
       "    <tr style=\"text-align: right;\">\n",
       "      <th></th>\n",
       "      <th>age</th>\n",
       "      <th>fnlwgt</th>\n",
       "      <th>education-num</th>\n",
       "      <th>capital-gain</th>\n",
       "      <th>capital-loss</th>\n",
       "      <th>hours-per-week</th>\n",
       "      <th>income</th>\n",
       "    </tr>\n",
       "  </thead>\n",
       "  <tbody>\n",
       "    <tr>\n",
       "      <th>count</th>\n",
       "      <td>32537.000000</td>\n",
       "      <td>3.253700e+04</td>\n",
       "      <td>32537.000000</td>\n",
       "      <td>32537.000000</td>\n",
       "      <td>32537.000000</td>\n",
       "      <td>32537.000000</td>\n",
       "      <td>32537.000000</td>\n",
       "    </tr>\n",
       "    <tr>\n",
       "      <th>mean</th>\n",
       "      <td>38.585549</td>\n",
       "      <td>1.897808e+05</td>\n",
       "      <td>10.081815</td>\n",
       "      <td>1078.443741</td>\n",
       "      <td>87.368227</td>\n",
       "      <td>40.440329</td>\n",
       "      <td>0.240926</td>\n",
       "    </tr>\n",
       "    <tr>\n",
       "      <th>std</th>\n",
       "      <td>13.637984</td>\n",
       "      <td>1.055565e+05</td>\n",
       "      <td>2.571633</td>\n",
       "      <td>7387.957424</td>\n",
       "      <td>403.101833</td>\n",
       "      <td>12.346889</td>\n",
       "      <td>0.427652</td>\n",
       "    </tr>\n",
       "    <tr>\n",
       "      <th>min</th>\n",
       "      <td>17.000000</td>\n",
       "      <td>1.228500e+04</td>\n",
       "      <td>1.000000</td>\n",
       "      <td>0.000000</td>\n",
       "      <td>0.000000</td>\n",
       "      <td>1.000000</td>\n",
       "      <td>0.000000</td>\n",
       "    </tr>\n",
       "    <tr>\n",
       "      <th>25%</th>\n",
       "      <td>28.000000</td>\n",
       "      <td>1.178270e+05</td>\n",
       "      <td>9.000000</td>\n",
       "      <td>0.000000</td>\n",
       "      <td>0.000000</td>\n",
       "      <td>40.000000</td>\n",
       "      <td>0.000000</td>\n",
       "    </tr>\n",
       "    <tr>\n",
       "      <th>50%</th>\n",
       "      <td>37.000000</td>\n",
       "      <td>1.783560e+05</td>\n",
       "      <td>10.000000</td>\n",
       "      <td>0.000000</td>\n",
       "      <td>0.000000</td>\n",
       "      <td>40.000000</td>\n",
       "      <td>0.000000</td>\n",
       "    </tr>\n",
       "    <tr>\n",
       "      <th>75%</th>\n",
       "      <td>48.000000</td>\n",
       "      <td>2.369930e+05</td>\n",
       "      <td>12.000000</td>\n",
       "      <td>0.000000</td>\n",
       "      <td>0.000000</td>\n",
       "      <td>45.000000</td>\n",
       "      <td>0.000000</td>\n",
       "    </tr>\n",
       "    <tr>\n",
       "      <th>max</th>\n",
       "      <td>90.000000</td>\n",
       "      <td>1.484705e+06</td>\n",
       "      <td>16.000000</td>\n",
       "      <td>99999.000000</td>\n",
       "      <td>4356.000000</td>\n",
       "      <td>99.000000</td>\n",
       "      <td>1.000000</td>\n",
       "    </tr>\n",
       "  </tbody>\n",
       "</table>\n",
       "</div>"
      ],
      "text/plain": [
       "                age        fnlwgt  education-num  capital-gain  capital-loss  \\\n",
       "count  32537.000000  3.253700e+04   32537.000000  32537.000000  32537.000000   \n",
       "mean      38.585549  1.897808e+05      10.081815   1078.443741     87.368227   \n",
       "std       13.637984  1.055565e+05       2.571633   7387.957424    403.101833   \n",
       "min       17.000000  1.228500e+04       1.000000      0.000000      0.000000   \n",
       "25%       28.000000  1.178270e+05       9.000000      0.000000      0.000000   \n",
       "50%       37.000000  1.783560e+05      10.000000      0.000000      0.000000   \n",
       "75%       48.000000  2.369930e+05      12.000000      0.000000      0.000000   \n",
       "max       90.000000  1.484705e+06      16.000000  99999.000000   4356.000000   \n",
       "\n",
       "       hours-per-week        income  \n",
       "count    32537.000000  32537.000000  \n",
       "mean        40.440329      0.240926  \n",
       "std         12.346889      0.427652  \n",
       "min          1.000000      0.000000  \n",
       "25%         40.000000      0.000000  \n",
       "50%         40.000000      0.000000  \n",
       "75%         45.000000      0.000000  \n",
       "max         99.000000      1.000000  "
      ]
     },
     "execution_count": 35,
     "metadata": {},
     "output_type": "execute_result"
    }
   ],
   "source": [
    "# summary stats about the variables\n",
    "df.describe()"
   ]
  },
  {
   "cell_type": "code",
   "execution_count": 66,
   "id": "666d1275",
   "metadata": {},
   "outputs": [
    {
     "data": {
      "image/png": "[encoded data removed]",
      "text/plain": [
       "<Figure size 700x500 with 1 Axes>"
      ]
     },
     "metadata": {},
     "output_type": "display_data"
    }
   ],
   "source": [
    "# distribution of the target variable\n",
    "plt.figure(figsize=(7, 5))\n",
    "bars = df['income'].value_counts().sort_index().plot(\n",
    "    kind='bar',\n",
    "    color=['#00246B', '#CADCFC'],\n",
    ")\n",
    "plt.title('Class Balance of Income', fontsize=16)\n",
    "plt.xlabel('Income (0 = <=50K, 1 = >50K)', fontsize=12)\n",
    "plt.ylabel('Count', fontsize=12)\n",
    "plt.xticks([0, 1], ['<=50K', '>50K'], rotation=0, fontsize=11)\n",
    "plt.yticks(fontsize=11)\n",
    "plt.grid(axis='y', linestyle='--', alpha=0.7)\n",
    "plt.tight_layout()\n",
    "plt.show()"
   ]
  },
  {
   "cell_type": "code",
   "execution_count": 67,
   "id": "7f345c50",
   "metadata": {},
   "outputs": [
    {
     "data": {
      "image/png": "[encoded data removed]",
      "text/plain": [
       "<Figure size 1200x700 with 1 Axes>"
      ]
     },
     "metadata": {},
     "output_type": "display_data"
    }
   ],
   "source": [
    "# relationship between income and age\n",
    "plt.figure(figsize=(12, 7))\n",
    "\n",
    "# Separate data for the two income categories\n",
    "over50k = df[df['income'] == 0]['age']\n",
    "below50k = df[df['income'] == 1]['age']\n",
    "\n",
    "# side-by-side histograms\n",
    "plt.hist([over50k, below50k], bins=20, color=['#00246B', '#CADCFC'], label=['<=50K', '>50K'])\n",
    "\n",
    "# Customize the plot\n",
    "plt.title('Age Distribution by Income Level', fontsize=16)\n",
    "plt.xlabel('Age', fontsize=12)\n",
    "plt.ylabel('Count', fontsize=12)\n",
    "plt.legend(title='Income')\n",
    "plt.grid(axis='y', linestyle='--', alpha=0.7)\n",
    "plt.tight_layout()\n",
    "plt.show()"
   ]
  },
  {
   "cell_type": "code",
   "execution_count": 68,
   "id": "1b8c92dc",
   "metadata": {},
   "outputs": [
    {
     "data": {
      "image/png": "[encoded data removed]",
      "text/plain": [
       "<Figure size 1200x800 with 1 Axes>"
      ]
     },
     "metadata": {},
     "output_type": "display_data"
    }
   ],
   "source": [
    "# income by education\n",
    "\n",
    "# Prepare data for grouped bar chart\n",
    "education_order = df['education'].value_counts().index\n",
    "income_by_education = pd.crosstab(df['education'], df['income'])\n",
    "income_by_education = income_by_education.reindex(education_order)\n",
    "\n",
    "# Plotting\n",
    "fig, ax = plt.subplots(figsize=(12, 8))\n",
    "\n",
    "bar_width = 0.4\n",
    "y_pos = np.arange(len(income_by_education.index))\n",
    "\n",
    "# Plot bars for income <=50K (0) and >50K (1)\n",
    "ax.barh(y_pos - bar_width/2, income_by_education[0], height=bar_width, color='#00246B', label='<=50K')\n",
    "ax.barh(y_pos + bar_width/2, income_by_education[1], height=bar_width, color='#CADCFC', label='>50K')\n",
    "\n",
    "# Customization\n",
    "ax.set_yticks(y_pos)\n",
    "ax.set_yticklabels(income_by_education.index)\n",
    "ax.invert_yaxis()  # To match the value_counts() order\n",
    "ax.set_title('Income Level by Education', fontsize=16)\n",
    "ax.set_xlabel('Count', fontsize=12)\n",
    "ax.set_ylabel('Education Level', fontsize=12)\n",
    "ax.legend(title='Income')\n",
    "plt.tight_layout()\n",
    "plt.show()"
   ]
  },
  {
   "cell_type": "code",
   "execution_count": null,
   "id": "bcd703dc",
   "metadata": {},
   "outputs": [],
   "source": [
    "# first glimpse into the data set\n",
    "df.head(20)"
   ]
  },
  {
   "cell_type": "code",
   "execution_count": 70,
   "id": "78124e81",
   "metadata": {},
   "outputs": [
    {
     "data": {
      "image/png": "[encoded data removed]",
      "text/plain": [
       "<Figure size 1200x800 with 1 Axes>"
      ]
     },
     "metadata": {},
     "output_type": "display_data"
    }
   ],
   "source": [
    "# income by workclass\n",
    "workclass_order = df['workclass'].value_counts().index\n",
    "income_by_workclass = pd.crosstab(df['workclass'], df['income'])\n",
    "income_by_workclass = income_by_workclass.reindex(workclass_order)\n",
    "\n",
    "# Plotting\n",
    "fig, ax = plt.subplots(figsize=(12, 8))\n",
    "\n",
    "bar_width = 0.4\n",
    "y_pos = np.arange(len(income_by_workclass.index))\n",
    "\n",
    "# Plot bars for income <=50K (0) and >50K (1)\n",
    "ax.barh(y_pos - bar_width/2, income_by_workclass[0], height=bar_width, color='#00246B', label='<=50K')\n",
    "ax.barh(y_pos + bar_width/2, income_by_workclass[1], height=bar_width, color='#CADCFC', label='>50K')\n",
    "\n",
    "# Customization\n",
    "ax.set_yticks(y_pos)\n",
    "ax.set_yticklabels(income_by_workclass.index)\n",
    "ax.invert_yaxis()  # To match the value_counts() order\n",
    "ax.set_title('Income Level by Work Class', fontsize=16)\n",
    "ax.set_xlabel('Count', fontsize=12)\n",
    "ax.set_ylabel('Work Class', fontsize=12)\n",
    "ax.legend(title='Income')\n",
    "plt.tight_layout()\n",
    "plt.show()"
   ]
  },
  {
   "cell_type": "code",
   "execution_count": 73,
   "id": "01d0596a",
   "metadata": {},
   "outputs": [
    {
     "data": {
      "image/png": "[encoded data removed]",
      "text/plain": [
       "<Figure size 1200x800 with 1 Axes>"
      ]
     },
     "metadata": {},
     "output_type": "display_data"
    }
   ],
   "source": [
    "\n",
    "# Prepare data for grouped bar chart\n",
    "occupation_order = df['occupation'].value_counts().index\n",
    "income_by_occupation = pd.crosstab(df['occupation'], df['income'])\n",
    "income_by_occupation = income_by_occupation.reindex(occupation_order)\n",
    "\n",
    "# Plotting\n",
    "fig, ax = plt.subplots(figsize=(12, 8))\n",
    "\n",
    "bar_width = 0.4\n",
    "y_pos = np.arange(len(income_by_occupation.index))\n",
    "\n",
    "# Plot bars for income <=50K (0) and >50K (1)\n",
    "ax.barh(y_pos - bar_width/2, income_by_occupation[0], height=bar_width, color='#00246B', label='<=50K')\n",
    "ax.barh(y_pos + bar_width/2, income_by_occupation[1], height=bar_width, color='#CADCFC', label='>50K')\n",
    "\n",
    "# Customization\n",
    "ax.set_yticks(y_pos)\n",
    "ax.set_yticklabels(income_by_occupation.index)\n",
    "ax.invert_yaxis()  # To match the value_counts() order\n",
    "ax.set_title('Income Level by Occupation', fontsize=16)\n",
    "ax.set_xlabel('Count', fontsize=12)\n",
    "ax.set_ylabel('Occupation', fontsize=12)\n",
    "ax.legend(title='Income')\n",
    "plt.tight_layout()\n",
    "plt.show()"
   ]
  },
  {
   "cell_type": "markdown",
   "id": "c08bc11c",
   "metadata": {},
   "source": [
    "\n",
    "# Feature Engineering\n"
   ]
  },
  {
   "cell_type": "markdown",
   "id": "f62b7162",
   "metadata": {},
   "source": [
    "### How Feature Encoding Works\n",
    "\n",
    "Feature encoding is a crucial step in preparing data for machine learning models. Most models require numerical input, so we need to convert categorical features (text-based) into a numerical format. The `encode_features` function from our `courselib` library is designed to handle this process in a structured and flexible way.\n",
    "\n",
    "It acts as a central dispatcher, reading a dictionary called `encoding_strategies` to determine which encoding method to apply to which columns. This approach allows us to easily experiment with different strategies without changing the underlying code.\n",
    "\n",
    "Here’s a breakdown of the encoding methods used in this project:\n",
    "\n",
    "#### 1. One-Hot Encoding\n",
    "\n",
    "- **What it is**: This technique converts a categorical feature with *k* unique categories into *k-1* new binary (0 or 1) columns. Each column represents one category, and a `1` indicates that the observation belongs to that category. We use *k-1* columns to avoid multicollinearity (the \"dummy variable trap\"), where the last category can be inferred from the others.\n",
    "- **Mathematical Definition**: For a category *c*, its one-hot representation is a vector `v` of length *k-1*, where `v[i] = 1` if the observation belongs to category *i*, and `0` otherwise.\n",
    "- **How it's implemented**: The `one_hot_encode` function is called for the columns specified under the `'one-hot'` key. It uses our custom `labels_encoding` utility to create the binary matrix.\n",
    "- **When to use it**: It is ideal for **nominal** features, where categories have no intrinsic order (e.g., `sex`, `race`).\n",
    "- **Columns in this project**: `workclass`, `marital-status`, `relationship`, `race`, `sex`.\n",
    "\n",
    "#### 2. Ordinal Encoding\n",
    "\n",
    "- **What it is**: This method assigns a unique integer to each category based on a predefined, meaningful order. For example, 'Preschool' might be `0`, 'HS-grad' might be `8`, and 'Doctorate' might be `12`.\n",
    "- **Mathematical Definition**: A mapping function `f(c) = i` is defined, where *c* is a category and *i* is its integer representation from a predefined ordered set `{0, 1, ..., k-1}`.\n",
    "- **How it's implemented**: The `ordinal_encode` function is called. It requires a dictionary where the key is the column name and the value is a list defining the exact order of the categories.\n",
    "- **When to use it**: It is used for **ordinal** features, where the order of categories is important (e.g., education levels, ratings).\n",
    "- **Column in this project**: `education`.\n",
    "\n",
    "#### 3. Target Encoding\n",
    "\n",
    "- **What it is**: This powerful technique replaces each category with the average value of the target variable for that category. For instance, the category 'Exec-managerial' in the `occupation` column would be replaced by the average income of all executive managers in the dataset.\n",
    "- **Mathematical Definition**: The encoded value for a category *c* is `E(c) = mean(y | X=c)`, where *y* is the target variable. To prevent data leakage, this mean is typically calculated on a subset of the data (e.g., using cross-validation).\n",
    "- **How it's implemented**: The `target_encode` function is called. To prevent **data leakage** (where information from the target variable unfairly influences the model), our implementation uses a robust cross-validation scheme. The data is split into folds, and the encoding for each fold is calculated using the target means from the *other* folds. This ensures the encoding is based on data the model hasn't \"seen\" during training.\n",
    "- **When to use it**: It is particularly effective for **high-cardinality** features (columns with many unique categories), like `occupation` or `native-country`, where one-hot encoding would create too many new columns.\n",
    "- **Columns in this project**: `occupation`, `native-country`. The `income` column is listed first in the `'target'` list to tell the function that it is the target variable.\n",
    "\n",
    "#### 4. Frequency Encoding\n",
    "\n",
    "- **What it is**: This method replaces each category with its frequency or the percentage of times it appears in the dataset. It assumes that the frequency of a category is a useful piece of information for the model.\n",
    "- **Mathematical Definition**: The encoded value for a category *c* is `Freq(c) = count(c) / N`, where `count(c)` is the number of times category *c* appears and *N* is the total number of observations.\n",
    "- **How it's implemented**: The `frequency_encode` function is called for columns specified under the `'frequency'` key.\n",
    "- **When to use it**: Like target encoding, it's a good option for **high-cardinality** features. It's simpler than target encoding as it doesn't use the target variable, thus avoiding data leakage.\n",
    "- **Experimental Plan**: We plan to test frequency encoding on the `native-country` feature as an alternative to target encoding to see which method yields better model performance.\n",
    "\n",
    "By using this structured approach, our preprocessing pipeline is not only clear and reproducible but also highly customizable for future experiments."
   ]
  },
  {
   "cell_type": "code",
   "execution_count": 74,
   "id": "17922581",
   "metadata": {},
   "outputs": [
    {
     "name": "stdout",
     "output_type": "stream",
     "text": [
      "Applying ordinal encoding...\n",
      "Applying one-hot encoding...\n"
     ]
    },
    {
     "data": {
      "application/vnd.microsoft.datawrangler.viewer.v0+json": {
       "columns": [
        {
         "name": "index",
         "rawType": "int64",
         "type": "integer"
        },
        {
         "name": "age",
         "rawType": "int64",
         "type": "integer"
        },
        {
         "name": "fnlwgt",
         "rawType": "int64",
         "type": "integer"
        },
        {
         "name": "education-num",
         "rawType": "int64",
         "type": "integer"
        },
        {
         "name": "capital-gain",
         "rawType": "int64",
         "type": "integer"
        },
        {
         "name": "capital-loss",
         "rawType": "int64",
         "type": "integer"
        },
        {
         "name": "hours-per-week",
         "rawType": "int64",
         "type": "integer"
        },
        {
         "name": "income",
         "rawType": "int64",
         "type": "integer"
        },
        {
         "name": "education_ordinal",
         "rawType": "int64",
         "type": "integer"
        },
        {
         "name": "workclass_Local-gov",
         "rawType": "float64",
         "type": "float"
        },
        {
         "name": "workclass_Missing",
         "rawType": "float64",
         "type": "float"
        },
        {
         "name": "workclass_Never-worked",
         "rawType": "float64",
         "type": "float"
        },
        {
         "name": "workclass_Private",
         "rawType": "float64",
         "type": "float"
        },
        {
         "name": "workclass_Self-emp-inc",
         "rawType": "float64",
         "type": "float"
        },
        {
         "name": "workclass_Self-emp-not-inc",
         "rawType": "float64",
         "type": "float"
        },
        {
         "name": "workclass_State-gov",
         "rawType": "float64",
         "type": "float"
        },
        {
         "name": "workclass_Without-pay",
         "rawType": "float64",
         "type": "float"
        },
        {
         "name": "marital-status_Married-AF-spouse",
         "rawType": "float64",
         "type": "float"
        },
        {
         "name": "marital-status_Married-civ-spouse",
         "rawType": "float64",
         "type": "float"
        },
        {
         "name": "marital-status_Married-spouse-absent",
         "rawType": "float64",
         "type": "float"
        },
        {
         "name": "marital-status_Never-married",
         "rawType": "float64",
         "type": "float"
        },
        {
         "name": "marital-status_Separated",
         "rawType": "float64",
         "type": "float"
        },
        {
         "name": "marital-status_Widowed",
         "rawType": "float64",
         "type": "float"
        },
        {
         "name": "relationship_Not-in-family",
         "rawType": "float64",
         "type": "float"
        },
        {
         "name": "relationship_Other-relative",
         "rawType": "float64",
         "type": "float"
        },
        {
         "name": "relationship_Own-child",
         "rawType": "float64",
         "type": "float"
        },
        {
         "name": "relationship_Unmarried",
         "rawType": "float64",
         "type": "float"
        },
        {
         "name": "relationship_Wife",
         "rawType": "float64",
         "type": "float"
        },
        {
         "name": "race_Asian-Pac-Islander",
         "rawType": "float64",
         "type": "float"
        },
        {
         "name": "race_Black",
         "rawType": "float64",
         "type": "float"
        },
        {
         "name": "race_Other",
         "rawType": "float64",
         "type": "float"
        },
        {
         "name": "race_White",
         "rawType": "float64",
         "type": "float"
        },
        {
         "name": "sex_Male",
         "rawType": "float64",
         "type": "float"
        },
        {
         "name": "occupation_target",
         "rawType": "float64",
         "type": "float"
        },
        {
         "name": "native-country_target",
         "rawType": "float64",
         "type": "float"
        }
       ],
       "ref": "989ca96f-6889-4ad8-9188-1a61c6c82744",
       "rows": [
        [
         "0",
         "39",
         "77516",
         "13",
         "2174",
         "0",
         "40",
         "0",
         "10",
         "0.0",
         "0.0",
         "0.0",
         "0.0",
         "0.0",
         "0.0",
         "1.0",
         "0.0",
         "0.0",
         "0.0",
         "0.0",
         "1.0",
         "0.0",
         "0.0",
         "1.0",
         "0.0",
         "0.0",
         "0.0",
         "0.0",
         "0.0",
         "0.0",
         "0.0",
         "1.0",
         "1.0",
         "0.14318936877076413",
         "0.24407796101949025"
        ],
        [
         "1",
         "50",
         "83311",
         "13",
         "0",
         "0",
         "13",
         "0",
         "10",
         "0.0",
         "0.0",
         "0.0",
         "0.0",
         "0.0",
         "1.0",
         "0.0",
         "0.0",
         "0.0",
         "1.0",
         "0.0",
         "0.0",
         "0.0",
         "0.0",
         "0.0",
         "0.0",
         "0.0",
         "0.0",
         "0.0",
         "0.0",
         "0.0",
         "0.0",
         "1.0",
         "1.0",
         "0.4834761321909425",
         "0.248603591991063"
        ],
        [
         "2",
         "38",
         "215646",
         "9",
         "0",
         "0",
         "40",
         "0",
         "8",
         "0.0",
         "0.0",
         "0.0",
         "1.0",
         "0.0",
         "0.0",
         "0.0",
         "0.0",
         "0.0",
         "0.0",
         "0.0",
         "0.0",
         "0.0",
         "0.0",
         "1.0",
         "0.0",
         "0.0",
         "0.0",
         "0.0",
         "0.0",
         "0.0",
         "0.0",
         "1.0",
         "1.0",
         "0.059782608695652176",
         "0.24407796101949025"
        ],
        [
         "3",
         "53",
         "234721",
         "7",
         "0",
         "0",
         "40",
         "0",
         "6",
         "0.0",
         "0.0",
         "0.0",
         "1.0",
         "0.0",
         "0.0",
         "0.0",
         "0.0",
         "0.0",
         "1.0",
         "0.0",
         "0.0",
         "0.0",
         "0.0",
         "0.0",
         "0.0",
         "0.0",
         "0.0",
         "0.0",
         "0.0",
         "1.0",
         "0.0",
         "0.0",
         "1.0",
         "0.05762081784386617",
         "0.248603591991063"
        ],
        [
         "4",
         "28",
         "338409",
         "13",
         "0",
         "0",
         "40",
         "0",
         "10",
         "0.0",
         "0.0",
         "0.0",
         "1.0",
         "0.0",
         "0.0",
         "0.0",
         "0.0",
         "0.0",
         "1.0",
         "0.0",
         "0.0",
         "0.0",
         "0.0",
         "0.0",
         "0.0",
         "0.0",
         "0.0",
         "1.0",
         "0.0",
         "1.0",
         "0.0",
         "0.0",
         "0.0",
         "0.4468019680196802",
         "0.24675324675324675"
        ]
       ],
       "shape": {
        "columns": 34,
        "rows": 5
       }
      },
      "text/html": [
       "<div>\n",
       "<style scoped>\n",
       "    .dataframe tbody tr th:only-of-type {\n",
       "        vertical-align: middle;\n",
       "    }\n",
       "\n",
       "    .dataframe tbody tr th {\n",
       "        vertical-align: top;\n",
       "    }\n",
       "\n",
       "    .dataframe thead th {\n",
       "        text-align: right;\n",
       "    }\n",
       "</style>\n",
       "<table border=\"1\" class=\"dataframe\">\n",
       "  <thead>\n",
       "    <tr style=\"text-align: right;\">\n",
       "      <th></th>\n",
       "      <th>age</th>\n",
       "      <th>fnlwgt</th>\n",
       "      <th>education-num</th>\n",
       "      <th>capital-gain</th>\n",
       "      <th>capital-loss</th>\n",
       "      <th>hours-per-week</th>\n",
       "      <th>income</th>\n",
       "      <th>education_ordinal</th>\n",
       "      <th>workclass_Local-gov</th>\n",
       "      <th>workclass_Missing</th>\n",
       "      <th>...</th>\n",
       "      <th>relationship_Own-child</th>\n",
       "      <th>relationship_Unmarried</th>\n",
       "      <th>relationship_Wife</th>\n",
       "      <th>race_Asian-Pac-Islander</th>\n",
       "      <th>race_Black</th>\n",
       "      <th>race_Other</th>\n",
       "      <th>race_White</th>\n",
       "      <th>sex_Male</th>\n",
       "      <th>occupation_target</th>\n",
       "      <th>native-country_target</th>\n",
       "    </tr>\n",
       "  </thead>\n",
       "  <tbody>\n",
       "    <tr>\n",
       "      <th>0</th>\n",
       "      <td>39</td>\n",
       "      <td>77516</td>\n",
       "      <td>13</td>\n",
       "      <td>2174</td>\n",
       "      <td>0</td>\n",
       "      <td>40</td>\n",
       "      <td>0</td>\n",
       "      <td>10</td>\n",
       "      <td>0.0</td>\n",
       "      <td>0.0</td>\n",
       "      <td>...</td>\n",
       "      <td>0.0</td>\n",
       "      <td>0.0</td>\n",
       "      <td>0.0</td>\n",
       "      <td>0.0</td>\n",
       "      <td>0.0</td>\n",
       "      <td>0.0</td>\n",
       "      <td>1.0</td>\n",
       "      <td>1.0</td>\n",
       "      <td>0.143189</td>\n",
       "      <td>0.244078</td>\n",
       "    </tr>\n",
       "    <tr>\n",
       "      <th>1</th>\n",
       "      <td>50</td>\n",
       "      <td>83311</td>\n",
       "      <td>13</td>\n",
       "      <td>0</td>\n",
       "      <td>0</td>\n",
       "      <td>13</td>\n",
       "      <td>0</td>\n",
       "      <td>10</td>\n",
       "      <td>0.0</td>\n",
       "      <td>0.0</td>\n",
       "      <td>...</td>\n",
       "      <td>0.0</td>\n",
       "      <td>0.0</td>\n",
       "      <td>0.0</td>\n",
       "      <td>0.0</td>\n",
       "      <td>0.0</td>\n",
       "      <td>0.0</td>\n",
       "      <td>1.0</td>\n",
       "      <td>1.0</td>\n",
       "      <td>0.483476</td>\n",
       "      <td>0.248604</td>\n",
       "    </tr>\n",
       "    <tr>\n",
       "      <th>2</th>\n",
       "      <td>38</td>\n",
       "      <td>215646</td>\n",
       "      <td>9</td>\n",
       "      <td>0</td>\n",
       "      <td>0</td>\n",
       "      <td>40</td>\n",
       "      <td>0</td>\n",
       "      <td>8</td>\n",
       "      <td>0.0</td>\n",
       "      <td>0.0</td>\n",
       "      <td>...</td>\n",
       "      <td>0.0</td>\n",
       "      <td>0.0</td>\n",
       "      <td>0.0</td>\n",
       "      <td>0.0</td>\n",
       "      <td>0.0</td>\n",
       "      <td>0.0</td>\n",
       "      <td>1.0</td>\n",
       "      <td>1.0</td>\n",
       "      <td>0.059783</td>\n",
       "      <td>0.244078</td>\n",
       "    </tr>\n",
       "    <tr>\n",
       "      <th>3</th>\n",
       "      <td>53</td>\n",
       "      <td>234721</td>\n",
       "      <td>7</td>\n",
       "      <td>0</td>\n",
       "      <td>0</td>\n",
       "      <td>40</td>\n",
       "      <td>0</td>\n",
       "      <td>6</td>\n",
       "      <td>0.0</td>\n",
       "      <td>0.0</td>\n",
       "      <td>...</td>\n",
       "      <td>0.0</td>\n",
       "      <td>0.0</td>\n",
       "      <td>0.0</td>\n",
       "      <td>0.0</td>\n",
       "      <td>1.0</td>\n",
       "      <td>0.0</td>\n",
       "      <td>0.0</td>\n",
       "      <td>1.0</td>\n",
       "      <td>0.057621</td>\n",
       "      <td>0.248604</td>\n",
       "    </tr>\n",
       "    <tr>\n",
       "      <th>4</th>\n",
       "      <td>28</td>\n",
       "      <td>338409</td>\n",
       "      <td>13</td>\n",
       "      <td>0</td>\n",
       "      <td>0</td>\n",
       "      <td>40</td>\n",
       "      <td>0</td>\n",
       "      <td>10</td>\n",
       "      <td>0.0</td>\n",
       "      <td>0.0</td>\n",
       "      <td>...</td>\n",
       "      <td>0.0</td>\n",
       "      <td>0.0</td>\n",
       "      <td>1.0</td>\n",
       "      <td>0.0</td>\n",
       "      <td>1.0</td>\n",
       "      <td>0.0</td>\n",
       "      <td>0.0</td>\n",
       "      <td>0.0</td>\n",
       "      <td>0.446802</td>\n",
       "      <td>0.246753</td>\n",
       "    </tr>\n",
       "  </tbody>\n",
       "</table>\n",
       "<p>5 rows × 34 columns</p>\n",
       "</div>"
      ],
      "text/plain": [
       "   age  fnlwgt  education-num  capital-gain  capital-loss  hours-per-week  \\\n",
       "0   39   77516             13          2174             0              40   \n",
       "1   50   83311             13             0             0              13   \n",
       "2   38  215646              9             0             0              40   \n",
       "3   53  234721              7             0             0              40   \n",
       "4   28  338409             13             0             0              40   \n",
       "\n",
       "   income  education_ordinal  workclass_Local-gov  workclass_Missing  ...  \\\n",
       "0       0                 10                  0.0                0.0  ...   \n",
       "1       0                 10                  0.0                0.0  ...   \n",
       "2       0                  8                  0.0                0.0  ...   \n",
       "3       0                  6                  0.0                0.0  ...   \n",
       "4       0                 10                  0.0                0.0  ...   \n",
       "\n",
       "   relationship_Own-child  relationship_Unmarried  relationship_Wife  \\\n",
       "0                     0.0                     0.0                0.0   \n",
       "1                     0.0                     0.0                0.0   \n",
       "2                     0.0                     0.0                0.0   \n",
       "3                     0.0                     0.0                0.0   \n",
       "4                     0.0                     0.0                1.0   \n",
       "\n",
       "   race_Asian-Pac-Islander  race_Black  race_Other  race_White  sex_Male  \\\n",
       "0                      0.0         0.0         0.0         1.0       1.0   \n",
       "1                      0.0         0.0         0.0         1.0       1.0   \n",
       "2                      0.0         0.0         0.0         1.0       1.0   \n",
       "3                      0.0         1.0         0.0         0.0       1.0   \n",
       "4                      0.0         1.0         0.0         0.0       0.0   \n",
       "\n",
       "   occupation_target  native-country_target  \n",
       "0           0.143189               0.244078  \n",
       "1           0.483476               0.248604  \n",
       "2           0.059783               0.244078  \n",
       "3           0.057621               0.248604  \n",
       "4           0.446802               0.246753  \n",
       "\n",
       "[5 rows x 34 columns]"
      ]
     },
     "execution_count": 74,
     "metadata": {},
     "output_type": "execute_result"
    }
   ],
   "source": [
    "from utils.preprocessing import encode_features\n",
    "\n",
    "# encoding strategies for each column\n",
    "encoding_strategies = {\n",
    "    'one-hot': ['workclass', 'marital-status', 'relationship', 'race', 'sex'],\n",
    "    'ordinal': {'education': ['Preschool', '1st-4th', '5th-6th', '7th-8th', '9th', '10th', '11th', '12th', 'HS-grad',\n",
    "                               'Some-college', 'Bachelors', 'Masters', 'Doctorate', 'Prof-school', 'Assoc-acdm',\n",
    "                                 'Assoc-voc']}, # must contain the correct order already\n",
    "    'target': ['income', 'occupation', 'native-country'],\n",
    "    # 'frequency': ['native-country'], # to later compare with target encoding\n",
    "  }\n",
    "\n",
    "# apply the encoding\n",
    "df_encoded = encode_features(df.copy(), encoding_strategies)\n",
    "df_encoded.head()\n"
   ]
  },
  {
   "cell_type": "code",
   "execution_count": 43,
   "id": "e4683b50",
   "metadata": {},
   "outputs": [
    {
     "name": "stdout",
     "output_type": "stream",
     "text": [
      "X_train shape: (26029, 33)\n",
      "X_test shape: (6508, 33)\n"
     ]
    }
   ],
   "source": [
    "from utils.splits import train_test_split\n",
    "\n",
    "# returns the full dataset (X, y) as well as the splits\n",
    "_, _, X_train, y_train, X_test, y_test = train_test_split(\n",
    "    df_encoded, \n",
    "    training_data_fraction=0.8, \n",
    "    class_column_name='income',\n",
    "    shuffle=True, \n",
    "    return_numpy=True\n",
    ")\n",
    "\n",
    "print(\"X_train shape:\", X_train.shape)\n",
    "print(\"X_test shape:\", X_test.shape)\n",
    "print(\"y_train shape:\", y_train.shape)\n",
    "print(\"y_test shape:\", y_test.shape)"
   ]
  },
  {
   "cell_type": "markdown",
   "id": "85245d97",
   "metadata": {},
   "source": [
    "\n",
    "# Feature Scaling\n",
    "\n",
    "Before training our models, it's important to scale our numerical features. Of course, it makes no sense to also scale the freshly encoded categorical data, such as the ordinally encoded `education` variable as we would destroy its ordinal structure immediately again.  Models like Logistic Regression are sensitive to the scale of the input data, and scaling can lead to faster convergence and better performance. We will use standardization, where each feature is scaled to have a mean of 0 and a standard deviation of 1.\n",
    "\n",
    "We will fit the scaler on the training data and use the same scaler to transform the test data. This prevents any information from the test set from leaking into our training process.\n"
   ]
  },
  {
   "cell_type": "code",
   "execution_count": 79,
   "id": "27b245df",
   "metadata": {},
   "outputs": [
    {
     "name": "stdout",
     "output_type": "stream",
     "text": [
      "Feature scaling complete for numerical columns.\n",
      "X_train_scaled shape: (26030, 33)\n",
      "X_test_scaled shape: (6507, 33)\n"
     ]
    }
   ],
   "source": [
    "from utils.normalization import StandardScaler\n",
    "\n",
    "# Identify numerical columns for scaling\n",
    "numerical_cols = ['age', 'fnlwgt', 'capital-gain', 'capital-loss', 'hours-per-week']\n",
    "X_columns = df_encoded.drop('income', axis=1).columns\n",
    "numerical_indices = [X_columns.get_loc(col) for col in numerical_cols]\n",
    "\n",
    "# Initialize the scaler with the indices of numerical columns\n",
    "scaler = StandardScaler(numerical_indices=numerical_indices)\n",
    "\n",
    "# Fit on training data and transform both training and test data\n",
    "X_train_scaled = scaler.fit_transform(X_train)\n",
    "X_test_scaled = scaler.transform(X_test)\n",
    "\n",
    "print(\"Feature scaling complete for numerical columns.\")\n",
    "print(\"X_train_scaled shape:\", X_train_scaled.shape)\n",
    "print(\"X_test_scaled shape:\", X_test_scaled.shape)\n"
   ]
  },
  {
   "cell_type": "code",
   "execution_count": null,
   "id": "9b299dca",
   "metadata": {},
   "outputs": [
    {
     "name": "stdout",
     "output_type": "stream",
     "text": [
      "--- Training Logistic Regression ---\n"
     ]
    },
    {
     "ename": "AxisError",
     "evalue": "axis 0 is out of bounds for array of dimension 0",
     "output_type": "error",
     "traceback": [
      "\u001b[1;31m---------------------------------------------------------------------------\u001b[0m",
      "\u001b[1;31mAxisError\u001b[0m                                 Traceback (most recent call last)",
      "Cell \u001b[1;32mIn[88], line 44\u001b[0m\n\u001b[0;32m     38\u001b[0m training_time \u001b[38;5;241m=\u001b[39m end_time \u001b[38;5;241m-\u001b[39m start_time\n\u001b[0;32m     40\u001b[0m \u001b[38;5;66;03m# Make predictions\u001b[39;00m\n\u001b[0;32m     41\u001b[0m \u001b[38;5;66;03m# y_pred = model(X_test_scaled)\u001b[39;00m\n\u001b[0;32m     42\u001b[0m \n\u001b[0;32m     43\u001b[0m \u001b[38;5;66;03m# Get performance metrics\u001b[39;00m\n\u001b[1;32m---> 44\u001b[0m acc \u001b[38;5;241m=\u001b[39m \u001b[43maccuracy\u001b[49m\u001b[43m(\u001b[49m\u001b[43my_test\u001b[49m\u001b[43m,\u001b[49m\u001b[43m \u001b[49m\u001b[43my_pred\u001b[49m\u001b[43m)\u001b[49m\n\u001b[0;32m     47\u001b[0m \u001b[38;5;66;03m# Store results\u001b[39;00m\n\u001b[0;32m     48\u001b[0m results\u001b[38;5;241m.\u001b[39mappend({\n\u001b[0;32m     49\u001b[0m     \u001b[38;5;124m'\u001b[39m\u001b[38;5;124mModel\u001b[39m\u001b[38;5;124m'\u001b[39m: model_name,\n\u001b[0;32m     50\u001b[0m     \u001b[38;5;124m'\u001b[39m\u001b[38;5;124mAccuracy\u001b[39m\u001b[38;5;124m'\u001b[39m: acc,\n\u001b[0;32m     51\u001b[0m     \u001b[38;5;124m'\u001b[39m\u001b[38;5;124mTraining Time (s)\u001b[39m\u001b[38;5;124m'\u001b[39m: training_time\n\u001b[0;32m     52\u001b[0m })\n",
      "File \u001b[1;32mc:\\Users\\janne\\Google Drive\\Master 2\\AML\\github_code\\final_project\\AML---final-project\\AppliedML\\courselib\\utils\\metrics.py:14\u001b[0m, in \u001b[0;36maccuracy\u001b[1;34m(y_pred, y_true, one_hot_encoded_labels)\u001b[0m\n\u001b[0;32m     12\u001b[0m     y_pred \u001b[38;5;241m=\u001b[39m np\u001b[38;5;241m.\u001b[39margmax(y_pred,axis\u001b[38;5;241m=\u001b[39m\u001b[38;5;241m-\u001b[39m\u001b[38;5;241m1\u001b[39m)\n\u001b[0;32m     13\u001b[0m     y_true \u001b[38;5;241m=\u001b[39m np\u001b[38;5;241m.\u001b[39margmax(y_true,axis\u001b[38;5;241m=\u001b[39m\u001b[38;5;241m-\u001b[39m\u001b[38;5;241m1\u001b[39m)\n\u001b[1;32m---> 14\u001b[0m \u001b[38;5;28;01mreturn\u001b[39;00m \u001b[43mnp\u001b[49m\u001b[38;5;241;43m.\u001b[39;49m\u001b[43mmean\u001b[49m\u001b[43m(\u001b[49m\u001b[43my_pred\u001b[49m\u001b[43m \u001b[49m\u001b[38;5;241;43m==\u001b[39;49m\u001b[43m \u001b[49m\u001b[43my_true\u001b[49m\u001b[43m,\u001b[49m\u001b[43m \u001b[49m\u001b[43maxis\u001b[49m\u001b[38;5;241;43m=\u001b[39;49m\u001b[38;5;241;43m0\u001b[39;49m\u001b[43m)\u001b[49m \u001b[38;5;241m*\u001b[39m \u001b[38;5;241m100\u001b[39m\n",
      "File \u001b[1;32mc:\\Users\\janne\\anaconda3_new\\envs\\applied_ml\\lib\\site-packages\\numpy\\_core\\fromnumeric.py:3858\u001b[0m, in \u001b[0;36mmean\u001b[1;34m(a, axis, dtype, out, keepdims, where)\u001b[0m\n\u001b[0;32m   3856\u001b[0m         \u001b[38;5;28;01mpass\u001b[39;00m\n\u001b[0;32m   3857\u001b[0m     \u001b[38;5;28;01melse\u001b[39;00m:\n\u001b[1;32m-> 3858\u001b[0m         \u001b[38;5;28;01mreturn\u001b[39;00m mean(axis\u001b[38;5;241m=\u001b[39maxis, dtype\u001b[38;5;241m=\u001b[39mdtype, out\u001b[38;5;241m=\u001b[39mout, \u001b[38;5;241m*\u001b[39m\u001b[38;5;241m*\u001b[39mkwargs)\n\u001b[0;32m   3860\u001b[0m \u001b[38;5;28;01mreturn\u001b[39;00m _methods\u001b[38;5;241m.\u001b[39m_mean(a, axis\u001b[38;5;241m=\u001b[39maxis, dtype\u001b[38;5;241m=\u001b[39mdtype,\n\u001b[0;32m   3861\u001b[0m                       out\u001b[38;5;241m=\u001b[39mout, \u001b[38;5;241m*\u001b[39m\u001b[38;5;241m*\u001b[39mkwargs)\n",
      "File \u001b[1;32mc:\\Users\\janne\\anaconda3_new\\envs\\applied_ml\\lib\\site-packages\\numpy\\_core\\_methods.py:123\u001b[0m, in \u001b[0;36m_mean\u001b[1;34m(a, axis, dtype, out, keepdims, where)\u001b[0m\n\u001b[0;32m    119\u001b[0m arr \u001b[38;5;241m=\u001b[39m asanyarray(a)\n\u001b[0;32m    121\u001b[0m is_float16_result \u001b[38;5;241m=\u001b[39m \u001b[38;5;28;01mFalse\u001b[39;00m\n\u001b[1;32m--> 123\u001b[0m rcount \u001b[38;5;241m=\u001b[39m \u001b[43m_count_reduce_items\u001b[49m\u001b[43m(\u001b[49m\u001b[43marr\u001b[49m\u001b[43m,\u001b[49m\u001b[43m \u001b[49m\u001b[43maxis\u001b[49m\u001b[43m,\u001b[49m\u001b[43m \u001b[49m\u001b[43mkeepdims\u001b[49m\u001b[38;5;241;43m=\u001b[39;49m\u001b[43mkeepdims\u001b[49m\u001b[43m,\u001b[49m\u001b[43m \u001b[49m\u001b[43mwhere\u001b[49m\u001b[38;5;241;43m=\u001b[39;49m\u001b[43mwhere\u001b[49m\u001b[43m)\u001b[49m\n\u001b[0;32m    124\u001b[0m \u001b[38;5;28;01mif\u001b[39;00m rcount \u001b[38;5;241m==\u001b[39m \u001b[38;5;241m0\u001b[39m \u001b[38;5;28;01mif\u001b[39;00m where \u001b[38;5;129;01mis\u001b[39;00m \u001b[38;5;28;01mTrue\u001b[39;00m \u001b[38;5;28;01melse\u001b[39;00m umr_any(rcount \u001b[38;5;241m==\u001b[39m \u001b[38;5;241m0\u001b[39m, axis\u001b[38;5;241m=\u001b[39m\u001b[38;5;28;01mNone\u001b[39;00m):\n\u001b[0;32m    125\u001b[0m     warnings\u001b[38;5;241m.\u001b[39mwarn(\u001b[38;5;124m\"\u001b[39m\u001b[38;5;124mMean of empty slice.\u001b[39m\u001b[38;5;124m\"\u001b[39m, \u001b[38;5;167;01mRuntimeWarning\u001b[39;00m, stacklevel\u001b[38;5;241m=\u001b[39m\u001b[38;5;241m2\u001b[39m)\n",
      "File \u001b[1;32mc:\\Users\\janne\\anaconda3_new\\envs\\applied_ml\\lib\\site-packages\\numpy\\_core\\_methods.py:86\u001b[0m, in \u001b[0;36m_count_reduce_items\u001b[1;34m(arr, axis, keepdims, where)\u001b[0m\n\u001b[0;32m     84\u001b[0m     items \u001b[38;5;241m=\u001b[39m \u001b[38;5;241m1\u001b[39m\n\u001b[0;32m     85\u001b[0m     \u001b[38;5;28;01mfor\u001b[39;00m ax \u001b[38;5;129;01min\u001b[39;00m axis:\n\u001b[1;32m---> 86\u001b[0m         items \u001b[38;5;241m*\u001b[39m\u001b[38;5;241m=\u001b[39m arr\u001b[38;5;241m.\u001b[39mshape[\u001b[43mmu\u001b[49m\u001b[38;5;241;43m.\u001b[39;49m\u001b[43mnormalize_axis_index\u001b[49m\u001b[43m(\u001b[49m\u001b[43max\u001b[49m\u001b[43m,\u001b[49m\u001b[43m \u001b[49m\u001b[43marr\u001b[49m\u001b[38;5;241;43m.\u001b[39;49m\u001b[43mndim\u001b[49m\u001b[43m)\u001b[49m]\n\u001b[0;32m     87\u001b[0m     items \u001b[38;5;241m=\u001b[39m nt\u001b[38;5;241m.\u001b[39mintp(items)\n\u001b[0;32m     88\u001b[0m \u001b[38;5;28;01melse\u001b[39;00m:\n\u001b[0;32m     89\u001b[0m     \u001b[38;5;66;03m# TODO: Optimize case when `where` is broadcast along a non-reduction\u001b[39;00m\n\u001b[0;32m     90\u001b[0m     \u001b[38;5;66;03m# axis and full sum is more excessive than needed.\u001b[39;00m\n\u001b[0;32m     91\u001b[0m \n\u001b[0;32m     92\u001b[0m     \u001b[38;5;66;03m# guarded to protect circular imports\u001b[39;00m\n",
      "\u001b[1;31mAxisError\u001b[0m: axis 0 is out of bounds for array of dimension 0"
     ]
    }
   ],
   "source": [
    "import time\n",
    "from models.linear_models import LinearBinaryClassification\n",
    "from models.tree import DecisionTreeClassifier\n",
    "from utils.metrics import accuracy, confusion_matrix\n",
    "from optimizers import GDOptimizer\n",
    "\n",
    "# model params for logistic regression\n",
    "n_features = X_train_scaled.shape[1]\n",
    "w_logreg = np.zeros(n_features)\n",
    "b_logreg = 0\n",
    "optimizer_logreg = GDOptimizer(learning_rate=0.01)\n",
    "class_labels_logreg = [0, 1] \n",
    "\n",
    "# Define the models to compare\n",
    "models = {\n",
    "    'Logistic Regression': LinearBinaryClassification(\n",
    "        w=w_logreg,\n",
    "        b=b_logreg,\n",
    "        optimizer=optimizer_logreg,\n",
    "        class_labels=class_labels_logreg\n",
    "    ),\n",
    "    'Decision Tree': DecisionTreeClassifier(max_depth=10, min_samples_split=2)\n",
    "}\n",
    "\n",
    "results = []\n",
    "\n",
    "# Loop through the models, train, and evaluate\n",
    "for model_name, model in models.items():\n",
    "    print(f\"--- Training {model_name} ---\")\n",
    "    \n",
    "    # Train the model and measure time\n",
    "    start_time = time.time()\n",
    "    if model_name == 'Logistic Regression':\n",
    "        model.fit(X_train_scaled, y_train, num_epochs=100, batch_size=32)\n",
    "    else:\n",
    "        model.fit(X_train_scaled, y_train)\n",
    "    end_time = time.time()\n",
    "    training_time = end_time - start_time\n",
    "    \n",
    "    # Make predictions\n",
    "    y_pred = model(X_test_scaled)\n",
    "    \n",
    "    # Get performance metrics\n",
    "    acc = accuracy(y_test, y_pred)\n",
    "\n",
    "    \n",
    "    # Store results\n",
    "    results.append({\n",
    "        'Model': model_name,\n",
    "        'Accuracy': acc,\n",
    "        'Training Time (s)': training_time\n",
    "    })\n",
    "    \n",
    "    # Print classification report\n",
    "    print(f\"Accuracy: {acc:.4f}\")\n",
    "\n",
    "    # Plot confusion matrix\n",
    "    cm = confusion_matrix(y_test, y_pred)\n",
    "    fig, ax = plt.subplots()\n",
    "    cax = ax.matshow(cm, cmap=plt.cm.Blues)\n",
    "    fig.colorbar(cax)\n",
    "    ax.set_xlabel('Predicted')\n",
    "    ax.set_ylabel('Actual')\n",
    "    ax.set_title(f'Confusion Matrix for {model_name}')\n",
    "    # Add text annotations.\n",
    "    for (i, j), val in np.ndenumerate(cm):\n",
    "        ax.text(j, i, f'{val}', ha='center', va='center', color='red')\n",
    "    plt.show()\n",
    "    print(\"\\n\" + \"=\"*50 + \"\\n\")\n",
    "\n",
    "# Display results in a DataFrame\n",
    "results_df = pd.DataFrame(results)\n",
    "print(\"--- Model Comparison Summary ---\")\n",
    "results_df"
   ]
  },
  {
   "cell_type": "markdown",
   "id": "ab493094",
   "metadata": {},
   "source": [
    "\n",
    "## Categorical Feature Analysis\n",
    "\n",
    "To determine the best encoding strategy, we can analyze the relationship between each categorical feature and the target variable (`income`). We'll calculate the mean income for each category to see if there's a natural ordering.\n"
   ]
  },
  {
   "cell_type": "code",
   "execution_count": 48,
   "id": "887c3ab7",
   "metadata": {},
   "outputs": [
    {
     "name": "stdout",
     "output_type": "stream",
     "text": [
      "--- workclass ---\n",
      "workclass\n",
      "Self-emp-inc        0.557348\n",
      "Federal-gov         0.386458\n",
      "Local-gov           0.294792\n",
      "Self-emp-not-inc    0.285039\n",
      "State-gov           0.271957\n",
      "Private             0.218807\n",
      "Missing             0.104031\n",
      "Never-worked        0.000000\n",
      "Without-pay         0.000000\n",
      "Name: income, dtype: float64\n",
      "\n",
      "\n",
      "--- education ---\n",
      "education\n",
      "Doctorate       0.740920\n",
      "Prof-school     0.734375\n",
      "Masters         0.556911\n",
      "Bachelors       0.414908\n",
      "Assoc-voc       0.261216\n",
      "Assoc-acdm      0.248360\n",
      "Some-college    0.190332\n",
      "HS-grad         0.159520\n",
      "12th            0.076212\n",
      "10th            0.066452\n",
      "7th-8th         0.062016\n",
      "9th             0.052529\n",
      "11th            0.051064\n",
      "5th-6th         0.048193\n",
      "1st-4th         0.036145\n",
      "Preschool       0.000000\n",
      "Name: income, dtype: float64\n",
      "\n",
      "\n",
      "--- marital-status ---\n",
      "marital-status\n",
      "Married-civ-spouse       0.446894\n",
      "Married-AF-spouse        0.434783\n",
      "Divorced                 0.104256\n",
      "Widowed                  0.085599\n",
      "Married-spouse-absent    0.081340\n",
      "Separated                0.064390\n",
      "Never-married            0.046030\n",
      "Name: income, dtype: float64\n",
      "\n",
      "\n",
      "--- occupation ---\n",
      "occupation\n",
      "Exec-managerial      0.484133\n",
      "Prof-specialty       0.449226\n",
      "Protective-serv      0.325116\n",
      "Tech-support         0.305286\n",
      "Sales                0.269315\n",
      "Craft-repair         0.226917\n",
      "Transport-moving     0.200376\n",
      "Adm-clerical         0.134554\n",
      "Machine-op-inspct    0.124500\n",
      "Farming-fishing      0.115927\n",
      "Armed-Forces         0.111111\n",
      "Missing              0.103635\n",
      "Handlers-cleaners    0.062820\n",
      "Other-service        0.041629\n",
      "Priv-house-serv      0.006803\n",
      "Name: income, dtype: float64\n",
      "\n",
      "\n",
      "--- relationship ---\n",
      "relationship\n",
      "Wife              0.475128\n",
      "Husband           0.448624\n",
      "Not-in-family     0.103232\n",
      "Unmarried         0.063280\n",
      "Other-relative    0.037717\n",
      "Own-child         0.013231\n",
      "Name: income, dtype: float64\n",
      "\n",
      "\n",
      "--- race ---\n",
      "race\n",
      "Asian-Pac-Islander    0.265896\n",
      "White                 0.255981\n",
      "Black                 0.123959\n",
      "Amer-Indian-Eskimo    0.115756\n",
      "Other                 0.092251\n",
      "Name: income, dtype: float64\n",
      "\n",
      "\n",
      "--- sex ---\n",
      "sex\n",
      "Male      0.305855\n",
      "Female    0.109552\n",
      "Name: income, dtype: float64\n",
      "\n",
      "\n",
      "--- native-country ---\n",
      "native-country\n",
      "Iran                          0.418605\n",
      "France                        0.413793\n",
      "India                         0.400000\n",
      "Taiwan                        0.392157\n",
      "Japan                         0.387097\n",
      "Yugoslavia                    0.375000\n",
      "Cambodia                      0.368421\n",
      "Italy                         0.342466\n",
      "England                       0.333333\n",
      "Canada                        0.322314\n",
      "Germany                       0.321168\n",
      "Philippines                   0.308081\n",
      "Hong                          0.300000\n",
      "Greece                        0.275862\n",
      "China                         0.266667\n",
      "Cuba                          0.263158\n",
      "Missing                       0.250859\n",
      "Scotland                      0.250000\n",
      "United-States                 0.245910\n",
      "Hungary                       0.230769\n",
      "Ireland                       0.208333\n",
      "Poland                        0.200000\n",
      "South                         0.200000\n",
      "Thailand                      0.166667\n",
      "Ecuador                       0.142857\n",
      "Jamaica                       0.123457\n",
      "Laos                          0.111111\n",
      "Portugal                      0.108108\n",
      "Puerto-Rico                   0.105263\n",
      "Trinadad&Tobago               0.105263\n",
      "Haiti                         0.090909\n",
      "El-Salvador                   0.084906\n",
      "Honduras                      0.076923\n",
      "Vietnam                       0.074627\n",
      "Peru                          0.064516\n",
      "Nicaragua                     0.058824\n",
      "Mexico                        0.051643\n",
      "Guatemala                     0.048387\n",
      "Columbia                      0.033898\n",
      "Dominican-Republic            0.028571\n",
      "Holand-Netherlands            0.000000\n",
      "Outlying-US(Guam-USVI-etc)    0.000000\n",
      "Name: income, dtype: float64\n",
      "\n",
      "\n"
     ]
    }
   ],
   "source": [
    "\n",
    "# Analyze the relationship between categorical features and income\n",
    "categorical_cols = df.select_dtypes(include=['object', 'category']).columns.tolist()\n",
    "if 'income' in categorical_cols:\n",
    "    categorical_cols.remove('income') # Remove target variable\n",
    "\n",
    "for col in categorical_cols:\n",
    "    print(f\"--- {col} ---\")\n",
    "    # Group by the column and calculate the mean of the target variable\n",
    "    # We can do this because the target is 0 or 1\n",
    "    print(df.groupby(col)['income'].mean().sort_values(ascending=False))\n",
    "    print(\"\\n\")\n"
   ]
  },
  {
   "cell_type": "markdown",
   "id": "0e0fa5e7",
   "metadata": {},
   "source": [
    "# Feature Engineering\n",
    "\n",
    "Now we will apply the encoding strategies we defined in our `preprocessing.py` file. We will create a dictionary to specify which encoding to use for each feature type."
   ]
  },
  {
   "cell_type": "markdown",
   "id": "39029ff5",
   "metadata": {},
   "source": [
    "# What I did. \n",
    "\n",
    "(you can delete this if you agree with these changes, if not, pls let me know which better ideas you have.)\n",
    "\n",
    "in preprocessing.py I did:\n",
    "1.\n",
    "    if 'ordinal' in encoding_strategies:\n",
    "        df_encoded = ordinal_encode(df_encoded, encoding_strategies['ordinal'],{})\n",
    "to\n",
    "    if 'ordinal' in encoding_strategies:\n",
    "        df_encoded = ordinal_encode(df_encoded, encoding_strategies['ordinal'])  \n",
    "\n",
    "2.\n",
    "to strip leading/trailing whitespace from string columns, so in the preprocess_data() I added:\n",
    "\n",
    "for col in df.select_dtypes(include='object').columns:\n",
    "    df[col] = df[col].str.strip()\n",
    "\n",
    "3.\n",
    "fix “index not in index” problems, so in the target_encode()：\n",
    "    \n",
    "    df.loc[val_indices, encoded_col_name] = val_fold_data[col].map(target_mean_map)\n",
    "to\n",
    "    mapped_values = val_fold_data[col].map(target_mean_map)\n",
    "    df.iloc[val_indices, df.columns.get_loc(encoded_col_name)] = mapped_values\n",
    "\n",
    "in main.ipynb I did:\n",
    "1.just be sure tht everyone can import the data, at beginning I added:\n",
    "\n",
    "from utils.preprocessing import encode_features, preprocess_data\n",
    "\n",
    "2.\n",
    "Remove \"occupation\" from the \"one-hot\" code, and only let it go into the \"target\" code.\n",
    "\n",
    "And for the improvements from Kaggle:\n",
    "\n",
    "1. Convert object columns to category to improve efficiency:\n",
    "\n",
    "for col in df.select_dtypes(include=['object']).columns:\n",
    "    df[col] = df[col].astype('category')\n",
    "\n",
    "But this currently causes many bugs and I haven't found a clean fix yet.\n",
    "\n",
    "2. Apply both frequency encoding and target encoding to native-country for comparison\n",
    "\n",
    "3. Visualize the frequency distribution of high-cardinality categories (e.g., native-country)\n",
    "\n",
    "4. Visualize the average income by occupation to evaluate whether target encoding is appropriate\n",
    "\n",
    "and added the train/test sets."
   ]
  }
 ],
 "metadata": {
  "kernelspec": {
   "display_name": "applied_ml",
   "language": "python",
   "name": "python3"
  },
  "language_info": {
   "codemirror_mode": {
    "name": "ipython",
    "version": 3
   },
   "file_extension": ".py",
   "mimetype": "text/x-python",
   "name": "python",
   "nbconvert_exporter": "python",
   "pygments_lexer": "ipython3",
   "version": "3.10.18"
  }
 },
 "nbformat": 4,
 "nbformat_minor": 5
}
